{
 "cells": [
  {
   "cell_type": "code",
   "execution_count": 17,
   "id": "62f80771-7aec-457c-b6ca-fec08c739446",
   "metadata": {},
   "outputs": [
    {
     "name": "stdout",
     "output_type": "stream",
     "text": [
      "  Class  Student  Subject  Score\n",
      "0     A    Alice     Math     90\n",
      "1     A      Bob     Math     85\n",
      "2     B  Charlie     Math     88\n",
      "3     B    David     Math     76\n",
      "4     A    Alice  English     92\n",
      "5     B  Charlie  English     80\n",
      "\n",
      "\n",
      "  Class  Student  English  Math\n",
      "0     A    Alice     92.0  90.0\n",
      "1     A      Bob      NaN  85.0\n",
      "2     B  Charlie     80.0  88.0\n",
      "3     B    David      NaN  76.0\n",
      "\n",
      "\n",
      "  Class  Student  Subject  Score\n",
      "0     A    Alice  English   92.0\n",
      "1     B  Charlie  English   80.0\n",
      "2     A    Alice     Math   90.0\n",
      "3     A      Bob     Math   85.0\n",
      "4     B  Charlie     Math   88.0\n",
      "5     B    David     Math   76.0\n"
     ]
    }
   ],
   "source": [
    "# Multi-Index Pivot Table + Reshape Back\n",
    "# Tasks:\n",
    "# 🔁 Create a pivot table where:\n",
    "\n",
    "# index = [\"Class\", \"Student\"]\n",
    "\n",
    "# columns = Subject\n",
    "\n",
    "# values = Score\n",
    "\n",
    "# aggfunc = 'mean'\n",
    "\n",
    "# 🧹 Reset the index and remove the column index name to make the table neat.\n",
    "\n",
    "import pandas as pd\n",
    "\n",
    "df = pd.DataFrame({\n",
    "    'Class': ['A', 'A', 'B', 'B', 'A', 'B'],\n",
    "    'Student': ['Alice', 'Bob', 'Charlie', 'David', 'Alice', 'Charlie'],\n",
    "    'Subject': ['Math', 'Math', 'Math', 'Math', 'English', 'English'],\n",
    "    'Score': [90, 85, 88, 76, 92, 80]\n",
    "})\n",
    "print (df)\n",
    "df = df.pivot_table(index = [\"Class\", \"Student\"], columns = \"Subject\", values = \"Score\" , aggfunc = \"mean\").reset_index()\n",
    "df.columns.name = None\n",
    "print(\"\\n\")\n",
    "print(df)\n",
    "\n",
    "# 🔄 Now reshape it back to long format using melt() with:\n",
    "\n",
    "# Columns: Class, Student, Subject, Score\n",
    "\n",
    "df = df.melt(id_vars = [\"Class\", \"Student\"], value_vars = [\"English\", \"Math\"], var_name = \"Subject\", value_name = \"Score\").dropna().reset_index()\n",
    "df = df[[\"Class\", \"Student\", \"Subject\", \"Score\"]]\n",
    "print(\"\\n\")\n",
    "print(df)\n"
   ]
  },
  {
   "cell_type": "code",
   "execution_count": null,
   "id": "17b6c772-5c30-4414-9ed7-dae0aa4bf724",
   "metadata": {},
   "outputs": [],
   "source": []
  }
 ],
 "metadata": {
  "kernelspec": {
   "display_name": "Python 3 (ipykernel)",
   "language": "python",
   "name": "python3"
  },
  "language_info": {
   "codemirror_mode": {
    "name": "ipython",
    "version": 3
   },
   "file_extension": ".py",
   "mimetype": "text/x-python",
   "name": "python",
   "nbconvert_exporter": "python",
   "pygments_lexer": "ipython3",
   "version": "3.13.5"
  }
 },
 "nbformat": 4,
 "nbformat_minor": 5
}
