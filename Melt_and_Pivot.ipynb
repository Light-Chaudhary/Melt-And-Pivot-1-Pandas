{
 "cells": [
  {
   "cell_type": "code",
   "execution_count": 37,
   "id": "262c010f-e2d1-4ba6-8800-a70cf7219337",
   "metadata": {},
   "outputs": [
    {
     "name": "stdout",
     "output_type": "stream",
     "text": [
      "   Student  Subject  Score\n",
      "0    Alice     Math     90\n",
      "1      Bob     Math     80\n",
      "2  Charlie     Math     85\n",
      "3    Alice  Science     88\n",
      "4      Bob  Science     76\n",
      "5  Charlie  Science     89\n",
      "6    Alice  English     92\n",
      "7      Bob  English     84\n",
      "8  Charlie  English     90\n",
      "\n",
      "\n",
      "   Student  English  Math  Science\n",
      "0    Alice       92    90       88\n",
      "1      Bob       84    80       76\n",
      "2  Charlie       90    85       89\n",
      "\n",
      "\n",
      "  Student  Math\n",
      "0   Alice  91.0\n",
      "1     Bob  79.0\n"
     ]
    }
   ],
   "source": [
    "#👉 Task:\n",
    " # Use melt() to convert this DataFrame to long format with columns: Student, Subject, and Score.\n",
    "\n",
    "import pandas as pd\n",
    "\n",
    "df = pd.DataFrame({\n",
    "    'Student': ['Alice', 'Bob', 'Charlie'],\n",
    "    'Math': [90, 80, 85],\n",
    "    'Science': [88, 76, 89],\n",
    "    'English': [92, 84, 90]\n",
    "})\n",
    "df = df.melt(id_vars = [\"Student\"], value_vars = [\"Math\", \"Science\", \"English\"], var_name = \"Subject\", value_name = \"Score\")\n",
    "print(df)\n",
    "\n",
    "# Pivot Back\n",
    "# Using the melted DataFrame, pivot it back to get the original wide format (with columns Student, Math, Science, English).\n",
    "\n",
    "df = df.pivot(index = \"Student\", columns = \"Subject\", values = \"Score\").reset_index()\n",
    "df.columns.name = None\n",
    "print(\"\\n\")\n",
    "print(df)\n",
    "\n",
    "# Use pivot_table with duplicate entries\n",
    "# Use pivot_table() to create a wide-format DataFrame with the average score per student per subject.\n",
    "# Remove column index name\n",
    "\n",
    "df2 = pd.DataFrame({\n",
    "    'Student': ['Alice', 'Bob', 'Alice', 'Bob'],\n",
    "    'Subject': ['Math', 'Math', 'Math', 'Math'],\n",
    "    'Score': [90, 80, 92, 78]\n",
    "})\n",
    "df2 = df2.pivot_table(index = \"Student\", columns = \"Subject\", values = \"Score\", aggfunc = \"mean\").reset_index()\n",
    "df2.columns.name = None\n",
    "print(\"\\n\")\n",
    "print(df2)"
   ]
  },
  {
   "cell_type": "code",
   "execution_count": null,
   "id": "92d319e1-86aa-4a87-920c-d883c8b45d55",
   "metadata": {},
   "outputs": [],
   "source": []
  }
 ],
 "metadata": {
  "kernelspec": {
   "display_name": "Python 3 (ipykernel)",
   "language": "python",
   "name": "python3"
  },
  "language_info": {
   "codemirror_mode": {
    "name": "ipython",
    "version": 3
   },
   "file_extension": ".py",
   "mimetype": "text/x-python",
   "name": "python",
   "nbconvert_exporter": "python",
   "pygments_lexer": "ipython3",
   "version": "3.13.5"
  }
 },
 "nbformat": 4,
 "nbformat_minor": 5
}
